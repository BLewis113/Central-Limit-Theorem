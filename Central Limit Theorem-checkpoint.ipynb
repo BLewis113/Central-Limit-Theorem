{
 "cells": [
  {
   "cell_type": "code",
   "execution_count": 2,
   "metadata": {},
   "outputs": [],
   "source": [
    "import numpy as np\n",
    "import pandas as pd\n",
    "import matplotlib.pyplot as plt\n",
    "%matplotlib inline"
   ]
  },
  {
   "cell_type": "code",
   "execution_count": 3,
   "metadata": {},
   "outputs": [
    {
     "name": "stdout",
     "output_type": "stream",
     "text": [
      "1.95\n",
      "4.95\n",
      "1.3592277219068185\n",
      "1.6085707942145413\n"
     ]
    }
   ],
   "source": [
    "pop1 = np.random.binomial(10, .2, 10000)\n",
    "pop2 = np.random.binomial(10, .5, 10000)\n",
    "\n",
    "sample1 = np.random.choice(pop1, 100, replace=True)\n",
    "sample2 = np.random.choice(pop2, 100, replace=True)\n",
    "\n",
    "print(sample1.mean())\n",
    "print(sample2.mean())\n",
    "print(sample1.std())\n",
    "print(sample2.std())"
   ]
  },
  {
   "cell_type": "markdown",
   "metadata": {},
   "source": [
    "### Increase the size of your samples from 100 to 1000, then calculate the means and standard deviations for your new samples and create histograms for each. Repeat this again, decreasing the size of your samples to 20. "
   ]
  },
  {
   "cell_type": "code",
   "execution_count": 4,
   "metadata": {},
   "outputs": [
    {
     "name": "stdout",
     "output_type": "stream",
     "text": [
      "2.014\n",
      "5.055\n",
      "1.2505214912187637\n",
      "1.5690681948213725\n"
     ]
    }
   ],
   "source": [
    "large_sample1 = np.random.choice(pop1, 1000, replace=True)\n",
    "large_sample2 = np.random.choice(pop2, 1000, replace=True)\n",
    "\n",
    "print(large_sample1.mean())\n",
    "print(large_sample2.mean())\n",
    "print(large_sample1.std())\n",
    "print(large_sample2.std())"
   ]
  },
  {
   "cell_type": "code",
   "execution_count": 5,
   "metadata": {},
   "outputs": [
    {
     "data": {
      "image/png": "[encoded data removed]",
      "text/plain": [
       "<Figure size 720x360 with 2 Axes>"
      ]
     },
     "metadata": {
      "needs_background": "light"
     },
     "output_type": "display_data"
    }
   ],
   "source": [
    "plt.figure(figsize=(10, 5))\n",
    "\n",
    "plt.subplot(1, 2, 1)\n",
    "plt.title('Sample1')\n",
    "plt.hist(large_sample1)\n",
    "\n",
    "plt.subplot(1, 2, 2)\n",
    "plt.title('Sample2')\n",
    "plt.hist(large_sample2)\n",
    "plt.show()"
   ]
  },
  {
   "cell_type": "code",
   "execution_count": 6,
   "metadata": {},
   "outputs": [
    {
     "name": "stdout",
     "output_type": "stream",
     "text": [
      "1.85\n",
      "5.55\n",
      "1.2359207094308275\n",
      "1.2031209415515964\n"
     ]
    }
   ],
   "source": [
    "small_sample1 = np.random.choice(pop1, 20, replace=True)\n",
    "small_sample2 = np.random.choice(pop2, 20, replace=True)\n",
    "\n",
    "print(small_sample1.mean())\n",
    "print(small_sample2.mean())\n",
    "print(small_sample1.std())\n",
    "print(small_sample2.std())"
   ]
  },
  {
   "cell_type": "code",
   "execution_count": 7,
   "metadata": {},
   "outputs": [
    {
     "data": {
      "image/png": "[encoded data removed]",
      "text/plain": [
       "<Figure size 720x360 with 2 Axes>"
      ]
     },
     "metadata": {
      "needs_background": "light"
     },
     "output_type": "display_data"
    }
   ],
   "source": [
    "plt.figure(figsize=(10, 5))\n",
    "\n",
    "plt.subplot(1, 2, 1)\n",
    "plt.title('Sample1')\n",
    "plt.hist(small_sample1)\n",
    "\n",
    "plt.subplot(1, 2, 2)\n",
    "plt.title('Sample2')\n",
    "plt.hist(small_sample2)\n",
    "plt.show()"
   ]
  },
  {
   "cell_type": "markdown",
   "metadata": {},
   "source": [
    "### Change the probability value (p in the NumPy documentation) for pop1 to 0.3, then take new samples and compute the t-statistic and p-value. Then change the probability value p for group 1 to 0.4, and do it again."
   ]
  },
  {
   "cell_type": "code",
   "execution_count": 8,
   "metadata": {},
   "outputs": [],
   "source": [
    "first_pop1 = np.random.binomial(10, .3, 10000)\n",
    "first_sample1 = np.random.choice(first_pop1, 100, replace=True)\n"
   ]
  },
  {
   "cell_type": "code",
   "execution_count": 9,
   "metadata": {},
   "outputs": [
    {
     "name": "stdout",
     "output_type": "stream",
     "text": [
      "Ttest_indResult(statistic=8.830381801512727, pvalue=5.674893538023558e-16)\n"
     ]
    }
   ],
   "source": [
    "from scipy.stats import ttest_ind\n",
    "print(ttest_ind(sample2, first_sample1, equal_var=False))"
   ]
  },
  {
   "cell_type": "code",
   "execution_count": 10,
   "metadata": {},
   "outputs": [],
   "source": [
    "second_pop1 = np.random.binomial(10, .7, 10000)\n",
    "second_sample1 = np.random.choice(second_pop1, 100, replace=True)"
   ]
  },
  {
   "cell_type": "code",
   "execution_count": 11,
   "metadata": {},
   "outputs": [
    {
     "name": "stdout",
     "output_type": "stream",
     "text": [
      "Ttest_indResult(statistic=-10.44493647408283, pvalue=1.842517852432097e-20)\n"
     ]
    }
   ],
   "source": [
    "from scipy.stats import ttest_ind\n",
    "print(ttest_ind(sample2, second_sample1, equal_var=False))"
   ]
  },
  {
   "cell_type": "markdown",
   "metadata": {},
   "source": [
    "## Change the distribution of your populations from binomial to a distribution of your choice. Do the sample mean values still accurately represent the population values?"
   ]
  },
  {
   "cell_type": "markdown",
   "metadata": {},
   "source": [
    "### The Central Limit Theory says that if the sample size is large enough the statistics will work and still represent the population values."
   ]
  },
  {
   "cell_type": "code",
   "execution_count": 14,
   "metadata": {},
   "outputs": [],
   "source": [
    "pop3 = np.random.logseries(.2, 10000)\n",
    "pop4 = np.random.logseries(.5, 10000)\n",
    "\n",
    "sample3 = np.random.choice(pop3, 100, replace=True)\n",
    "sample4 = np.random.choice(pop4, 100, replace=True)"
   ]
  },
  {
   "cell_type": "code",
   "execution_count": 15,
   "metadata": {},
   "outputs": [
    {
     "name": "stdout",
     "output_type": "stream",
     "text": [
      "1.08\n",
      "1.46\n",
      "0.2712931993250107\n",
      "1.1173182178770737\n"
     ]
    }
   ],
   "source": [
    "print(sample3.mean())\n",
    "print(sample4.mean())\n",
    "print(sample3.std())\n",
    "print(sample4.std())"
   ]
  },
  {
   "cell_type": "code",
   "execution_count": 16,
   "metadata": {},
   "outputs": [
    {
     "name": "stdout",
     "output_type": "stream",
     "text": [
      "1.114\n",
      "1.455\n",
      "0.35917126833865765\n",
      "0.9143166847433115\n"
     ]
    }
   ],
   "source": [
    "large_sample3 = np.random.choice(pop3, 1000, replace=True)\n",
    "large_sample4 = np.random.choice(pop4, 1000, replace=True)\n",
    "\n",
    "print(large_sample3.mean())\n",
    "print(large_sample4.mean())\n",
    "print(large_sample3.std())\n",
    "print(large_sample4.std())"
   ]
  },
  {
   "cell_type": "code",
   "execution_count": 17,
   "metadata": {},
   "outputs": [
    {
     "name": "stdout",
     "output_type": "stream",
     "text": [
      "1.1\n",
      "1.45\n",
      "0.3\n",
      "0.7399324293474372\n"
     ]
    }
   ],
   "source": [
    "small_sample3 = np.random.choice(pop3, 20, replace=True)\n",
    "small_sample4 = np.random.choice(pop4, 20, replace=True)\n",
    "\n",
    "print(small_sample3.mean())\n",
    "print(small_sample4.mean())\n",
    "print(small_sample3.std())\n",
    "print(small_sample4.std())"
   ]
  },
  {
   "cell_type": "code",
   "execution_count": null,
   "metadata": {},
   "outputs": [],
   "source": []
  }
 ],
 "metadata": {
  "kernelspec": {
   "display_name": "Python 3",
   "language": "python",
   "name": "python3"
  },
  "language_info": {
   "codemirror_mode": {
    "name": "ipython",
    "version": 3
   },
   "file_extension": ".py",
   "mimetype": "text/x-python",
   "name": "python",
   "nbconvert_exporter": "python",
   "pygments_lexer": "ipython3",
   "version": "3.7.1"
  }
 },
 "nbformat": 4,
 "nbformat_minor": 2
}
